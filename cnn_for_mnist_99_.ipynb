{
  "nbformat": 4,
  "nbformat_minor": 0,
  "metadata": {
    "accelerator": "GPU",
    "colab": {
      "name": "cnn for mnist 99%.ipynb",
      "provenance": [],
      "collapsed_sections": []
    },
    "kernelspec": {
      "display_name": "Python 3",
      "language": "python",
      "name": "python3"
    },
    "language_info": {
      "codemirror_mode": {
        "name": "ipython",
        "version": 3
      },
      "file_extension": ".py",
      "mimetype": "text/x-python",
      "name": "python",
      "nbconvert_exporter": "python",
      "pygments_lexer": "ipython3",
      "version": "3.7.5"
    }
  },
  "cells": [
    {
      "cell_type": "markdown",
      "metadata": {
        "colab_type": "text",
        "id": "tijow1vfdPGb"
      },
      "source": [
        "**Importing important libraries and enabling gpu on colab**"
      ]
    },
    {
      "cell_type": "code",
      "metadata": {
        "colab_type": "code",
        "id": "lsPlxeTLawXl",
        "outputId": "be81dd13-ae5e-4139-f3b2-d9f2073086a1",
        "colab": {
          "base_uri": "https://localhost:8080/",
          "height": 54
        }
      },
      "source": [
        "%tensorflow_version 2.x\n",
        "import tensorflow as tf\n",
        "device_name = tf.test.gpu_device_name()\n",
        "if device_name != '/device:GPU:0':\n",
        "  raise SystemError('GPU device not found')\n",
        "print('Found GPU at: {}'.format(device_name))"
      ],
      "execution_count": 0,
      "outputs": [
        {
          "output_type": "stream",
          "text": [
            "TensorFlow 2.x selected.\n",
            "Found GPU at: /device:GPU:0\n"
          ],
          "name": "stdout"
        }
      ]
    },
    {
      "cell_type": "code",
      "metadata": {
        "colab_type": "code",
        "id": "DA6URgmDbHX7",
        "outputId": "a751ca76-8c43-4b28-fe5b-2fa113c83ec8",
        "colab": {
          "base_uri": "https://localhost:8080/",
          "height": 35
        }
      },
      "source": [
        "import seaborn as sns\n",
        "import matplotlib.pyplot  as plt\n",
        "from tensorflow.keras.datasets import mnist\n",
        "from tensorflow.keras.layers import Conv2D, MaxPool2D, Dense, Flatten, Dropout\n",
        "from tensorflow.keras.models import Sequential\n",
        "tf.__version__\n"
      ],
      "execution_count": 0,
      "outputs": [
        {
          "output_type": "execute_result",
          "data": {
            "text/plain": [
              "'2.1.0-rc1'"
            ]
          },
          "metadata": {
            "tags": []
          },
          "execution_count": 2
        }
      ]
    },
    {
      "cell_type": "code",
      "metadata": {
        "colab_type": "code",
        "id": "z1TIsQ1BMIGJ",
        "colab": {}
      },
      "source": [
        "import zipfile\n",
        "import os\n",
        "from pathlib import Path"
      ],
      "execution_count": 0,
      "outputs": []
    },
    {
      "cell_type": "markdown",
      "metadata": {
        "colab_type": "text",
        "id": "x63EyLsVdqpc"
      },
      "source": [
        "\n",
        "**Loading data set to colab**"
      ]
    },
    {
      "cell_type": "code",
      "metadata": {
        "colab_type": "code",
        "id": "3scV0S4NdDQ_",
        "outputId": "f0405b8a-8073-4257-c281-9fb0447526ba",
        "colab": {
          "base_uri": "https://localhost:8080/",
          "height": 54
        }
      },
      "source": [
        "(x_train, y_train), (x_test, y_test) = mnist.load_data()"
      ],
      "execution_count": 0,
      "outputs": [
        {
          "output_type": "stream",
          "text": [
            "Downloading data from https://storage.googleapis.com/tensorflow/tf-keras-datasets/mnist.npz\n",
            "11493376/11490434 [==============================] - 0s 0us/step\n"
          ],
          "name": "stdout"
        }
      ]
    },
    {
      "cell_type": "markdown",
      "metadata": {
        "colab_type": "text",
        "id": "f7BYVnq8inH3"
      },
      "source": [
        "Data Varification"
      ]
    },
    {
      "cell_type": "code",
      "metadata": {
        "colab_type": "code",
        "id": "BupJw-8QdDrj",
        "outputId": "92125f02-42a3-4bc1-94cf-6b822b095aab",
        "colab": {
          "base_uri": "https://localhost:8080/",
          "height": 267
        }
      },
      "source": [
        "g = sns.countplot(y_train)\n"
      ],
      "execution_count": 0,
      "outputs": [
        {
          "output_type": "display_data",
          "data": {
            "image/png": "[encoded data removed]",
            "text/plain": [
              "<Figure size 432x288 with 1 Axes>"
            ]
          },
          "metadata": {
            "tags": []
          }
        }
      ]
    },
    {
      "cell_type": "code",
      "metadata": {
        "colab_type": "code",
        "id": "VvqT0ZcUjn5n",
        "outputId": "98e12961-4398-47fb-b94c-225d1bbe1eda",
        "colab": {
          "base_uri": "https://localhost:8080/",
          "height": 35
        }
      },
      "source": [
        "x_train.shape"
      ],
      "execution_count": 0,
      "outputs": [
        {
          "output_type": "execute_result",
          "data": {
            "text/plain": [
              "(60000, 28, 28)"
            ]
          },
          "metadata": {
            "tags": []
          },
          "execution_count": 6
        }
      ]
    },
    {
      "cell_type": "markdown",
      "metadata": {
        "colab_type": "text",
        "id": "mNTRxWQwkLO9"
      },
      "source": [
        "## **Prepare the training data**"
      ]
    },
    {
      "cell_type": "markdown",
      "metadata": {
        "colab_type": "text",
        "id": "3CD7DQK0kiMN"
      },
      "source": [
        "\n",
        "**Normalizing Data**"
      ]
    },
    {
      "cell_type": "code",
      "metadata": {
        "colab_type": "code",
        "id": "QZNkOBZ-kcPO",
        "outputId": "b07800b4-c73e-462d-bdc8-3e22cca82e31",
        "colab": {
          "base_uri": "https://localhost:8080/",
          "height": 917
        }
      },
      "source": [
        "x_train = x_train.astype('float32')\n",
        "x_train = x_train.astype('float32')\n",
        "\n",
        "x_train = x_train/255\n",
        "x_test - x_test/255"
      ],
      "execution_count": 0,
      "outputs": [
        {
          "output_type": "execute_result",
          "data": {
            "text/plain": [
              "array([[[0., 0., 0., ..., 0., 0., 0.],\n",
              "        [0., 0., 0., ..., 0., 0., 0.],\n",
              "        [0., 0., 0., ..., 0., 0., 0.],\n",
              "        ...,\n",
              "        [0., 0., 0., ..., 0., 0., 0.],\n",
              "        [0., 0., 0., ..., 0., 0., 0.],\n",
              "        [0., 0., 0., ..., 0., 0., 0.]],\n",
              "\n",
              "       [[0., 0., 0., ..., 0., 0., 0.],\n",
              "        [0., 0., 0., ..., 0., 0., 0.],\n",
              "        [0., 0., 0., ..., 0., 0., 0.],\n",
              "        ...,\n",
              "        [0., 0., 0., ..., 0., 0., 0.],\n",
              "        [0., 0., 0., ..., 0., 0., 0.],\n",
              "        [0., 0., 0., ..., 0., 0., 0.]],\n",
              "\n",
              "       [[0., 0., 0., ..., 0., 0., 0.],\n",
              "        [0., 0., 0., ..., 0., 0., 0.],\n",
              "        [0., 0., 0., ..., 0., 0., 0.],\n",
              "        ...,\n",
              "        [0., 0., 0., ..., 0., 0., 0.],\n",
              "        [0., 0., 0., ..., 0., 0., 0.],\n",
              "        [0., 0., 0., ..., 0., 0., 0.]],\n",
              "\n",
              "       ...,\n",
              "\n",
              "       [[0., 0., 0., ..., 0., 0., 0.],\n",
              "        [0., 0., 0., ..., 0., 0., 0.],\n",
              "        [0., 0., 0., ..., 0., 0., 0.],\n",
              "        ...,\n",
              "        [0., 0., 0., ..., 0., 0., 0.],\n",
              "        [0., 0., 0., ..., 0., 0., 0.],\n",
              "        [0., 0., 0., ..., 0., 0., 0.]],\n",
              "\n",
              "       [[0., 0., 0., ..., 0., 0., 0.],\n",
              "        [0., 0., 0., ..., 0., 0., 0.],\n",
              "        [0., 0., 0., ..., 0., 0., 0.],\n",
              "        ...,\n",
              "        [0., 0., 0., ..., 0., 0., 0.],\n",
              "        [0., 0., 0., ..., 0., 0., 0.],\n",
              "        [0., 0., 0., ..., 0., 0., 0.]],\n",
              "\n",
              "       [[0., 0., 0., ..., 0., 0., 0.],\n",
              "        [0., 0., 0., ..., 0., 0., 0.],\n",
              "        [0., 0., 0., ..., 0., 0., 0.],\n",
              "        ...,\n",
              "        [0., 0., 0., ..., 0., 0., 0.],\n",
              "        [0., 0., 0., ..., 0., 0., 0.],\n",
              "        [0., 0., 0., ..., 0., 0., 0.]]])"
            ]
          },
          "metadata": {
            "tags": []
          },
          "execution_count": 7
        }
      ]
    },
    {
      "cell_type": "code",
      "metadata": {
        "colab_type": "code",
        "id": "K_ylYqHNpo3o",
        "colab": {}
      },
      "source": [
        "# one hot encoding y data\n",
        "y_train= tf.keras.utils.to_categorical(y_train, 10)\n",
        "y_test= tf.keras.utils.to_categorical(y_test, 10)\n"
      ],
      "execution_count": 0,
      "outputs": []
    },
    {
      "cell_type": "code",
      "metadata": {
        "colab_type": "code",
        "id": "TseE41g4tFzs",
        "outputId": "399c92e0-2672-42eb-ffcf-8aee6cce7dad",
        "colab": {
          "base_uri": "https://localhost:8080/",
          "height": 35
        }
      },
      "source": [
        "y_train.shape"
      ],
      "execution_count": 0,
      "outputs": [
        {
          "output_type": "execute_result",
          "data": {
            "text/plain": [
              "(60000, 10)"
            ]
          },
          "metadata": {
            "tags": []
          },
          "execution_count": 9
        }
      ]
    },
    {
      "cell_type": "markdown",
      "metadata": {
        "colab_type": "text",
        "id": "z-ztAToImk0g"
      },
      "source": [
        "**Reshaping Data**"
      ]
    },
    {
      "cell_type": "code",
      "metadata": {
        "colab_type": "code",
        "id": "A4VPKlHxmyXa",
        "outputId": "9543841a-ae8d-4d55-c3e0-3f2343540869",
        "colab": {
          "base_uri": "https://localhost:8080/",
          "height": 35
        }
      },
      "source": [
        "x_train = x_train.reshape(-1, 28, 28, 1)\n",
        "x_test = x_test.reshape(-1,28 ,28, 1)\n",
        "x_train.shape"
      ],
      "execution_count": 0,
      "outputs": [
        {
          "output_type": "execute_result",
          "data": {
            "text/plain": [
              "(60000, 28, 28, 1)"
            ]
          },
          "metadata": {
            "tags": []
          },
          "execution_count": 24
        }
      ]
    },
    {
      "cell_type": "code",
      "metadata": {
        "colab_type": "code",
        "id": "4On9dKeA6Rxm",
        "colab": {}
      },
      "source": [
        "# Important Variables\n",
        "epochs = 30\n",
        "num_classes = 10\n",
        "batch_size = 128\n",
        "input_shape = (28, 28, 1)\n",
        "adam = tf.keras.optimizers.Adam(learning_rate=0.0008, beta_1=0.9, beta_2=0.999, amsgrad=False)\n",
        "\n",
        "\n"
      ],
      "execution_count": 0,
      "outputs": []
    },
    {
      "cell_type": "markdown",
      "metadata": {
        "colab_type": "text",
        "id": "y-yslYc3vWqB"
      },
      "source": [
        "# **Training a MNIST model**"
      ]
    },
    {
      "cell_type": "markdown",
      "metadata": {
        "colab_type": "text",
        "id": "6beSz_-DwWFb"
      },
      "source": [
        "**Building model**"
      ]
    },
    {
      "cell_type": "code",
      "metadata": {
        "colab_type": "code",
        "id": "BBtI40PlwNHp",
        "outputId": "96dae45a-ba8c-4861-b364-580e9a36e272",
        "colab": {
          "base_uri": "https://localhost:8080/",
          "height": 752
        }
      },
      "source": [
        "model = Sequential()\n",
        "model.add(Conv2D(32, (3, 3), padding='same', input_shape=input_shape, activation= tf.nn.relu))\n",
        "model.add(Conv2D(32, (3, 3), padding='same', activation= tf.nn.relu))\n",
        "model.add(MaxPool2D(pool_size=(2, 2)))\n",
        "model.add(Dropout(0.25))\n",
        "\n",
        "model.add(Conv2D(64, (3, 3), padding='same', activation= tf.nn.relu))\n",
        "model.add(Conv2D(64, (3, 3), padding='same', activation= tf.nn.relu))\n",
        "model.add(MaxPool2D(pool_size=(2, 2)))\n",
        "model.add(Dropout(0.25))\n",
        "\n",
        "model.add(Dense(1024, activation=tf.nn.relu))\n",
        "model.add(Dropout(0.3))\n",
        "\n",
        "model.add(Flatten())\n",
        "model.add(Dense(512, activation=tf.nn.relu))\n",
        "model.add(Dropout(0.3))\n",
        "\n",
        "\n",
        "model.add(Dense(256, activation=tf.nn.relu))\n",
        "\n",
        "model.add(Dropout(0.5))\n",
        "model.add(Dense(10, activation= tf.nn.relu))\n",
        "\n",
        "# Model Compile\n",
        "model.compile(optimizer= adam, loss= tf.keras.losses.categorical_crossentropy, metrics=[\"accuracy\"])\n",
        "\n",
        "# Model Summery\n",
        "model.summary()\n"
      ],
      "execution_count": 0,
      "outputs": [
        {
          "output_type": "stream",
          "text": [
            "Model: \"sequential_5\"\n",
            "_________________________________________________________________\n",
            "Layer (type)                 Output Shape              Param #   \n",
            "=================================================================\n",
            "conv2d_20 (Conv2D)           (None, 28, 28, 32)        320       \n",
            "_________________________________________________________________\n",
            "conv2d_21 (Conv2D)           (None, 28, 28, 32)        9248      \n",
            "_________________________________________________________________\n",
            "max_pooling2d_10 (MaxPooling (None, 14, 14, 32)        0         \n",
            "_________________________________________________________________\n",
            "dropout_17 (Dropout)         (None, 14, 14, 32)        0         \n",
            "_________________________________________________________________\n",
            "conv2d_22 (Conv2D)           (None, 14, 14, 64)        18496     \n",
            "_________________________________________________________________\n",
            "conv2d_23 (Conv2D)           (None, 14, 14, 64)        36928     \n",
            "_________________________________________________________________\n",
            "max_pooling2d_11 (MaxPooling (None, 7, 7, 64)          0         \n",
            "_________________________________________________________________\n",
            "dropout_18 (Dropout)         (None, 7, 7, 64)          0         \n",
            "_________________________________________________________________\n",
            "dense_12 (Dense)             (None, 7, 7, 1024)        66560     \n",
            "_________________________________________________________________\n",
            "dropout_19 (Dropout)         (None, 7, 7, 1024)        0         \n",
            "_________________________________________________________________\n",
            "flatten_3 (Flatten)          (None, 50176)             0         \n",
            "_________________________________________________________________\n",
            "dense_13 (Dense)             (None, 512)               25690624  \n",
            "_________________________________________________________________\n",
            "dropout_20 (Dropout)         (None, 512)               0         \n",
            "_________________________________________________________________\n",
            "dense_14 (Dense)             (None, 256)               131328    \n",
            "_________________________________________________________________\n",
            "dropout_21 (Dropout)         (None, 256)               0         \n",
            "_________________________________________________________________\n",
            "dense_15 (Dense)             (None, 10)                2570      \n",
            "=================================================================\n",
            "Total params: 25,956,074\n",
            "Trainable params: 25,956,074\n",
            "Non-trainable params: 0\n",
            "_________________________________________________________________\n"
          ],
          "name": "stdout"
        }
      ]
    },
    {
      "cell_type": "markdown",
      "metadata": {
        "colab_type": "text",
        "id": "ZZh4_vY3pl4S"
      },
      "source": [
        "#### **Training Model to get 99% accuracy**"
      ]
    },
    {
      "cell_type": "code",
      "metadata": {
        "colab_type": "code",
        "id": "wy5GPcxhph8L",
        "outputId": "e7ec405c-3a37-424a-879d-6528249b13b5",
        "colab": {
          "base_uri": "https://localhost:8080/",
          "height": 1000
        }
      },
      "source": [
        "History = model.fit(\n",
        "          x_train,\n",
        "          y_train,\n",
        "          batch_size =batch_size,\n",
        "          epochs = epochs,\n",
        "          validation_data = (x_test, y_test),\n",
        "          shuffle= True    \n",
        "        )"
      ],
      "execution_count": 0,
      "outputs": [
        {
          "output_type": "stream",
          "text": [
            "Train on 60000 samples, validate on 10000 samples\n",
            "Epoch 1/30\n",
            "60000/60000 [==============================] - 17s 281us/sample - loss: 1.4064 - accuracy: 0.6406 - val_loss: 0.9959 - val_accuracy: 0.7864\n",
            "Epoch 2/30\n",
            "60000/60000 [==============================] - 16s 267us/sample - loss: 0.7930 - accuracy: 0.8651 - val_loss: 0.4882 - val_accuracy: 0.9036\n",
            "Epoch 3/30\n",
            "60000/60000 [==============================] - 16s 268us/sample - loss: 0.4739 - accuracy: 0.9222 - val_loss: 0.1792 - val_accuracy: 0.9687\n",
            "Epoch 4/30\n",
            "60000/60000 [==============================] - 16s 267us/sample - loss: 0.4382 - accuracy: 0.9287 - val_loss: 0.2114 - val_accuracy: 0.9556\n",
            "Epoch 5/30\n",
            "60000/60000 [==============================] - 16s 266us/sample - loss: 0.8078 - accuracy: 0.8545 - val_loss: 0.3718 - val_accuracy: 0.9330\n",
            "Epoch 6/30\n",
            "60000/60000 [==============================] - 16s 268us/sample - loss: 0.5748 - accuracy: 0.8909 - val_loss: 0.4567 - val_accuracy: 0.8859\n",
            "Epoch 7/30\n",
            "60000/60000 [==============================] - 16s 270us/sample - loss: 0.5115 - accuracy: 0.9054 - val_loss: 0.2071 - val_accuracy: 0.9561\n",
            "Epoch 8/30\n",
            "60000/60000 [==============================] - 16s 269us/sample - loss: 0.4455 - accuracy: 0.9224 - val_loss: 0.1904 - val_accuracy: 0.9648\n",
            "Epoch 9/30\n",
            "60000/60000 [==============================] - 16s 269us/sample - loss: 0.3678 - accuracy: 0.9398 - val_loss: 0.1549 - val_accuracy: 0.9717\n",
            "Epoch 10/30\n",
            "60000/60000 [==============================] - 16s 267us/sample - loss: 0.3089 - accuracy: 0.9509 - val_loss: 0.1378 - val_accuracy: 0.9755\n",
            "Epoch 11/30\n",
            "60000/60000 [==============================] - 16s 268us/sample - loss: 0.3001 - accuracy: 0.9514 - val_loss: 0.1630 - val_accuracy: 0.9614\n",
            "Epoch 12/30\n",
            "60000/60000 [==============================] - 16s 269us/sample - loss: 0.2590 - accuracy: 0.9549 - val_loss: 0.1047 - val_accuracy: 0.9776\n",
            "Epoch 13/30\n",
            "60000/60000 [==============================] - 16s 269us/sample - loss: 0.2509 - accuracy: 0.9581 - val_loss: 0.1016 - val_accuracy: 0.9776\n",
            "Epoch 14/30\n",
            "60000/60000 [==============================] - 16s 267us/sample - loss: 0.2983 - accuracy: 0.9520 - val_loss: 0.1188 - val_accuracy: 0.9760\n",
            "Epoch 15/30\n",
            "60000/60000 [==============================] - 16s 267us/sample - loss: 0.2057 - accuracy: 0.9655 - val_loss: 0.1588 - val_accuracy: 0.9680\n",
            "Epoch 16/30\n",
            "60000/60000 [==============================] - 16s 268us/sample - loss: 0.2306 - accuracy: 0.9629 - val_loss: 0.1097 - val_accuracy: 0.9787\n",
            "Epoch 17/30\n",
            "60000/60000 [==============================] - 16s 268us/sample - loss: 0.1886 - accuracy: 0.9689 - val_loss: 0.0977 - val_accuracy: 0.9804\n",
            "Epoch 18/30\n",
            "60000/60000 [==============================] - 16s 266us/sample - loss: 0.2193 - accuracy: 0.9638 - val_loss: 0.1309 - val_accuracy: 0.9720\n",
            "Epoch 19/30\n",
            "60000/60000 [==============================] - 16s 267us/sample - loss: 0.1959 - accuracy: 0.9688 - val_loss: 0.0946 - val_accuracy: 0.9822\n",
            "Epoch 20/30\n",
            "60000/60000 [==============================] - 16s 267us/sample - loss: 0.1482 - accuracy: 0.9772 - val_loss: 0.0952 - val_accuracy: 0.9821\n",
            "Epoch 21/30\n",
            "60000/60000 [==============================] - 16s 268us/sample - loss: 0.2277 - accuracy: 0.9617 - val_loss: 0.1047 - val_accuracy: 0.9774\n",
            "Epoch 22/30\n",
            "60000/60000 [==============================] - 16s 267us/sample - loss: 0.2496 - accuracy: 0.9583 - val_loss: 0.0959 - val_accuracy: 0.9813\n",
            "Epoch 23/30\n",
            "60000/60000 [==============================] - 16s 267us/sample - loss: 0.1819 - accuracy: 0.9697 - val_loss: 0.0829 - val_accuracy: 0.9822\n",
            "Epoch 24/30\n",
            "60000/60000 [==============================] - 16s 267us/sample - loss: 0.1541 - accuracy: 0.9757 - val_loss: 0.0760 - val_accuracy: 0.9852\n",
            "Epoch 25/30\n",
            "60000/60000 [==============================] - 16s 267us/sample - loss: 0.1370 - accuracy: 0.9784 - val_loss: 0.0710 - val_accuracy: 0.9849\n",
            "Epoch 26/30\n",
            "60000/60000 [==============================] - 16s 267us/sample - loss: 0.1352 - accuracy: 0.9780 - val_loss: 0.0777 - val_accuracy: 0.9875\n",
            "Epoch 27/30\n",
            "60000/60000 [==============================] - 16s 270us/sample - loss: 0.1292 - accuracy: 0.9807 - val_loss: 0.0890 - val_accuracy: 0.9837\n",
            "Epoch 28/30\n",
            "60000/60000 [==============================] - 16s 266us/sample - loss: 0.1238 - accuracy: 0.9810 - val_loss: 0.0750 - val_accuracy: 0.9870\n",
            "Epoch 29/30\n",
            "60000/60000 [==============================] - 16s 267us/sample - loss: 0.1909 - accuracy: 0.9702 - val_loss: 0.0892 - val_accuracy: 0.9852\n",
            "Epoch 30/30\n",
            "60000/60000 [==============================] - 16s 268us/sample - loss: 0.2097 - accuracy: 0.9656 - val_loss: 0.0820 - val_accuracy: 0.9854\n"
          ],
          "name": "stdout"
        }
      ]
    },
    {
      "cell_type": "code",
      "metadata": {
        "colab_type": "code",
        "id": "U0nLDTWhYoQ4",
        "outputId": "20f5447e-c8f7-4def-ba60-aa18c3194b6b",
        "colab": {
          "base_uri": "https://localhost:8080/",
          "height": 265
        }
      },
      "source": [
        "fig, ax = plt.subplots(2,1)\n",
        "ax[0].plot(History.history['loss'], color='b', label=\"Training loss\")\n",
        "ax[0].plot(History.history['val_loss'], color='r', label=\"validation loss\",axes =ax[0])\n",
        "legend = ax[0].legend(loc='best', shadow=False)\n",
        "\n",
        "ax[1].plot(History.history['accuracy'], color='b', label=\"Training accuracy\")\n",
        "ax[1].plot(History.history['val_accuracy'], color='r',label=\"Validation accuracy\")\n",
        "legend = ax[1].legend(loc='best', shadow=False)"
      ],
      "execution_count": 0,
      "outputs": [
        {
          "output_type": "display_data",
          "data": {
            "image/png": "[encoded data removed]",
            "text/plain": [
              "<Figure size 432x288 with 2 Axes>"
            ]
          },
          "metadata": {
            "tags": []
          }
        }
      ]
    },
    {
      "cell_type": "markdown",
      "metadata": {
        "colab_type": "text",
        "id": "8KaKWGKhJVRe"
      },
      "source": [
        "#### **Saving Model**"
      ]
    },
    {
      "cell_type": "code",
      "metadata": {
        "colab_type": "code",
        "id": "2rV8v61XJfJT",
        "outputId": "a367f440-969f-49fd-82b5-a42a9fe457ba",
        "colab": {
          "base_uri": "https://localhost:8080/",
          "height": 34
        }
      },
      "source": [
        "# saving model structure\n",
        "\n",
        "model_structure = model.to_json()\n",
        "file_path = Path(\"model_structure.json\")\n",
        "file_path.write_text(model_structure)\n"
      ],
      "execution_count": 0,
      "outputs": [
        {
          "output_type": "execute_result",
          "data": {
            "text/plain": [
              "4741"
            ]
          },
          "metadata": {
            "tags": []
          },
          "execution_count": 35
        }
      ]
    },
    {
      "cell_type": "code",
      "metadata": {
        "colab_type": "code",
        "id": "pz_86ciZMTy9",
        "colab": {}
      },
      "source": [
        "# saving model's trained weight\n",
        "model.save_weights(\"model_weights.h5\")"
      ],
      "execution_count": 0,
      "outputs": []
    },
    {
      "cell_type": "markdown",
      "metadata": {
        "colab_type": "text",
        "id": "LtT_eWzkPDZu"
      },
      "source": [
        "## **Training Pruned Model**"
      ]
    },
    {
      "cell_type": "code",
      "metadata": {
        "colab_type": "code",
        "id": "sh9f40qRR8rU",
        "colab": {}
      },
      "source": [
        "pip install -q tensorflow-model-optimization"
      ],
      "execution_count": 0,
      "outputs": []
    },
    {
      "cell_type": "code",
      "metadata": {
        "colab_type": "code",
        "id": "-E14oPSHPCT0",
        "colab": {}
      },
      "source": [
        "from tensorflow_model_optimization.sparsity import keras as k\n",
        "import numpy as np\n"
      ],
      "execution_count": 0,
      "outputs": []
    },
    {
      "cell_type": "code",
      "metadata": {
        "colab_type": "code",
        "id": "23Upu9koSUS4",
        "outputId": "62fd4dde-b067-451d-d658-1bfde2e578bf",
        "colab": {
          "base_uri": "https://localhost:8080/",
          "height": 34
        }
      },
      "source": [
        "num_train_samples = x_train.shape[0]\n",
        "end_step = np.ceil(1.0 * num_train_samples / batch_size).astype(np.int32) * 15\n",
        "end_step"
      ],
      "execution_count": 0,
      "outputs": [
        {
          "output_type": "execute_result",
          "data": {
            "text/plain": [
              "10590"
            ]
          },
          "metadata": {
            "tags": []
          },
          "execution_count": 19
        }
      ]
    },
    {
      "cell_type": "code",
      "metadata": {
        "colab_type": "code",
        "id": "O6buUwXDTFaw",
        "outputId": "a20fedf7-23d4-4c9a-ea28-57d64801b65a",
        "colab": {
          "base_uri": "https://localhost:8080/",
          "height": 700
        }
      },
      "source": [
        "pruning_params = {\n",
        "      'pruning_schedule': k.PolynomialDecay(initial_sparsity=0.50,\n",
        "                                                   final_sparsity=0.90,\n",
        "                                                   begin_step=7000,\n",
        "                                                   end_step=end_step,\n",
        "                                                   frequency=100)\n",
        "}\n",
        "\n",
        "pruned_model = Sequential()\n",
        "\n",
        "pruned_model.add(k.prune_low_magnitude(Conv2D(32, (3, 3), padding='same', input_shape=input_shape, activation= tf.nn.relu), **pruning_params))\n",
        "pruned_model.add(k.prune_low_magnitude(Conv2D(32, (3, 3), padding='same', activation= tf.nn.relu), **pruning_params))\n",
        "pruned_model.add(MaxPool2D(pool_size=(2, 2)))\n",
        "pruned_model.add(Dropout(0.25))\n",
        "\n",
        "pruned_model.add(k.prune_low_magnitude(Conv2D(64, (3, 3), padding='same', activation= tf.nn.relu), **pruning_params))\n",
        "pruned_model.add(k.prune_low_magnitude(Conv2D(64, (3, 3), padding='same', activation= tf.nn.relu), **pruning_params))\n",
        "pruned_model.add(MaxPool2D(pool_size=(2, 2)))\n",
        "pruned_model.add(Dropout(0.25))\n",
        "\n",
        "#pruned_model.add(k.prune_low_magnitude(Dense(1024, activation=tf.nn.relu), **pruning_params))\n",
        "#pruned_model.add(Dropout(0.3))\n",
        "\n",
        "pruned_model.add(Flatten())\n",
        "pruned_model.add(k.prune_low_magnitude(Dense(512, activation=tf.nn.relu), **pruning_params))\n",
        "pruned_model.add(Dropout(0.3))\n",
        "\n",
        "\n",
        "pruned_model.add(k.prune_low_magnitude(Dense(256, activation=tf.nn.relu), **pruning_params))\n",
        "\n",
        "pruned_model.add(Dropout(0.5))\n",
        "pruned_model.add(Dense(10, activation= tf.nn.relu))\n",
        "\n",
        "# Pruned Model Compile\n",
        "pruned_model.compile(optimizer= \"adam\", loss= tf.keras.losses.categorical_crossentropy, metrics=[\"accuracy\"])\n",
        "\n",
        "# Pruned Model Summery\n",
        "pruned_model.summary()"
      ],
      "execution_count": 0,
      "outputs": [
        {
          "output_type": "stream",
          "text": [
            "WARNING:tensorflow:From /usr/local/lib/python3.6/dist-packages/tensorflow_model_optimization/python/core/sparsity/keras/pruning_wrapper.py:183: Layer.add_variable (from tensorflow.python.keras.engine.base_layer) is deprecated and will be removed in a future version.\n",
            "Instructions for updating:\n",
            "Please use `layer.add_weight` method instead.\n",
            "Model: \"sequential_1\"\n",
            "_________________________________________________________________\n",
            "Layer (type)                 Output Shape              Param #   \n",
            "=================================================================\n",
            "prune_low_magnitude_conv2d_4 (None, 28, 28, 32)        610       \n",
            "_________________________________________________________________\n",
            "prune_low_magnitude_conv2d_5 (None, 28, 28, 32)        18466     \n",
            "_________________________________________________________________\n",
            "max_pooling2d_2 (MaxPooling2 (None, 14, 14, 32)        0         \n",
            "_________________________________________________________________\n",
            "dropout_4 (Dropout)          (None, 14, 14, 32)        0         \n",
            "_________________________________________________________________\n",
            "prune_low_magnitude_conv2d_6 (None, 14, 14, 64)        36930     \n",
            "_________________________________________________________________\n",
            "prune_low_magnitude_conv2d_7 (None, 14, 14, 64)        73794     \n",
            "_________________________________________________________________\n",
            "max_pooling2d_3 (MaxPooling2 (None, 7, 7, 64)          0         \n",
            "_________________________________________________________________\n",
            "dropout_5 (Dropout)          (None, 7, 7, 64)          0         \n",
            "_________________________________________________________________\n",
            "flatten_1 (Flatten)          (None, 3136)              0         \n",
            "_________________________________________________________________\n",
            "prune_low_magnitude_dense_3  (None, 512)               3211778   \n",
            "_________________________________________________________________\n",
            "dropout_6 (Dropout)          (None, 512)               0         \n",
            "_________________________________________________________________\n",
            "prune_low_magnitude_dense_4  (None, 256)               262402    \n",
            "_________________________________________________________________\n",
            "dropout_7 (Dropout)          (None, 256)               0         \n",
            "_________________________________________________________________\n",
            "dense_5 (Dense)              (None, 10)                2570      \n",
            "=================================================================\n",
            "Total params: 3,606,550\n",
            "Trainable params: 1,805,034\n",
            "Non-trainable params: 1,801,516\n",
            "_________________________________________________________________\n"
          ],
          "name": "stdout"
        }
      ]
    },
    {
      "cell_type": "markdown",
      "metadata": {
        "colab_type": "text",
        "id": "6_e5WGpxvXI4"
      },
      "source": [
        "#### **Training pruned Model**"
      ]
    },
    {
      "cell_type": "code",
      "metadata": {
        "colab_type": "code",
        "id": "ahPMsriOvlS5",
        "outputId": "ef6d8884-e0b4-4473-d1bf-0a30a2b05330",
        "colab": {
          "base_uri": "https://localhost:8080/",
          "height": 544
        }
      },
      "source": [
        "history = pruned_model.fit(\n",
        "          x_train,\n",
        "          y_train,\n",
        "          batch_size =batch_size,\n",
        "          epochs = 15,\n",
        "          callbacks = [k.UpdatePruningStep()],\n",
        "          validation_data = (x_test, y_test),\n",
        "          shuffle= True    \n",
        "        )"
      ],
      "execution_count": 0,
      "outputs": [
        {
          "output_type": "stream",
          "text": [
            "Train on 60000 samples, validate on 10000 samples\n",
            "Epoch 1/15\n",
            "60000/60000 [==============================] - 9s 145us/sample - loss: 0.1978 - accuracy: 0.9680 - val_loss: 0.1147 - val_accuracy: 0.9792\n",
            "Epoch 2/15\n",
            "60000/60000 [==============================] - 8s 141us/sample - loss: 0.2280 - accuracy: 0.9632 - val_loss: 0.0944 - val_accuracy: 0.9821\n",
            "Epoch 3/15\n",
            "60000/60000 [==============================] - 8s 139us/sample - loss: 0.1816 - accuracy: 0.9714 - val_loss: 0.0930 - val_accuracy: 0.9827\n",
            "Epoch 4/15\n",
            "60000/60000 [==============================] - 8s 139us/sample - loss: 0.1640 - accuracy: 0.9731 - val_loss: 0.0836 - val_accuracy: 0.9832\n",
            "Epoch 5/15\n",
            "60000/60000 [==============================] - 8s 140us/sample - loss: 0.1736 - accuracy: 0.9704 - val_loss: 0.0812 - val_accuracy: 0.9850\n",
            "Epoch 6/15\n",
            "60000/60000 [==============================] - 8s 138us/sample - loss: 0.1730 - accuracy: 0.9732 - val_loss: 0.0732 - val_accuracy: 0.9841\n",
            "Epoch 7/15\n",
            "60000/60000 [==============================] - 8s 140us/sample - loss: 0.1752 - accuracy: 0.9735 - val_loss: 0.1805 - val_accuracy: 0.9751\n",
            "Epoch 8/15\n",
            "60000/60000 [==============================] - 8s 138us/sample - loss: 0.1668 - accuracy: 0.9746 - val_loss: 0.0771 - val_accuracy: 0.9855\n",
            "Epoch 9/15\n",
            "60000/60000 [==============================] - 8s 138us/sample - loss: 0.1478 - accuracy: 0.9768 - val_loss: 0.0824 - val_accuracy: 0.9864\n",
            "Epoch 10/15\n",
            "60000/60000 [==============================] - 8s 135us/sample - loss: 0.1692 - accuracy: 0.9732 - val_loss: 0.0797 - val_accuracy: 0.9862\n",
            "Epoch 11/15\n",
            "60000/60000 [==============================] - 8s 137us/sample - loss: 0.1608 - accuracy: 0.9764 - val_loss: 0.0797 - val_accuracy: 0.9859\n",
            "Epoch 12/15\n",
            "60000/60000 [==============================] - 8s 136us/sample - loss: 0.1449 - accuracy: 0.9786 - val_loss: 0.0744 - val_accuracy: 0.9866\n",
            "Epoch 13/15\n",
            "60000/60000 [==============================] - 8s 138us/sample - loss: 0.1380 - accuracy: 0.9799 - val_loss: 0.0707 - val_accuracy: 0.9875\n",
            "Epoch 14/15\n",
            "60000/60000 [==============================] - 8s 137us/sample - loss: 0.1401 - accuracy: 0.9790 - val_loss: 0.0742 - val_accuracy: 0.9870\n",
            "Epoch 15/15\n",
            "60000/60000 [==============================] - 8s 138us/sample - loss: 0.1310 - accuracy: 0.9799 - val_loss: 0.0762 - val_accuracy: 0.9871\n"
          ],
          "name": "stdout"
        }
      ]
    },
    {
      "cell_type": "markdown",
      "metadata": {
        "colab_type": "text",
        "id": "SZdubckD8pMO"
      },
      "source": [
        ""
      ]
    },
    {
      "cell_type": "markdown",
      "metadata": {
        "colab_type": "text",
        "id": "WMy4AKce4OQs"
      },
      "source": [
        "## **Saving Pruned Model**"
      ]
    },
    {
      "cell_type": "code",
      "metadata": {
        "colab_type": "code",
        "id": "ywYtJ7eC4euC",
        "outputId": "e7c1cee0-15ca-41e6-9d49-3f5affe2a89d",
        "colab": {
          "base_uri": "https://localhost:8080/",
          "height": 265
        }
      },
      "source": [
        "fig, ax = plt.subplots(2,1)\n",
        "ax[0].plot(history.history['loss'], color='b', label=\"Training loss\")\n",
        "ax[0].plot(history.history['val_loss'], color='r', label=\"validation loss\",axes =ax[0])\n",
        "legend = ax[0].legend(loc='best', shadow=False)\n",
        "\n",
        "ax[1].plot(history.history['accuracy'], color='b', label=\"Training accuracy\")\n",
        "ax[1].plot(history.history['val_accuracy'], color='r',label=\"Validation accuracy\")\n",
        "legend = ax[1].legend(loc='best', shadow=False)"
      ],
      "execution_count": 0,
      "outputs": [
        {
          "output_type": "display_data",
          "data": {
            "image/png": "[encoded data removed]",
            "text/plain": [
              "<Figure size 432x288 with 2 Axes>"
            ]
          },
          "metadata": {
            "tags": []
          }
        }
      ]
    },
    {
      "cell_type": "code",
      "metadata": {
        "colab_type": "code",
        "id": "nmkvUzy132D_",
        "outputId": "2a26bc94-e1e8-4d49-df37-3d5d65094962",
        "colab": {
          "base_uri": "https://localhost:8080/",
          "height": 34
        }
      },
      "source": [
        "# saving model structure\n",
        "\n",
        "pruned_model_structure = pruned_model.to_json()\n",
        "file_path = Path(\"pruned_model_structure.json\")\n",
        "file_path.write_text(pruned_model_structure)"
      ],
      "execution_count": 0,
      "outputs": [
        {
          "output_type": "execute_result",
          "data": {
            "text/plain": [
              "7023"
            ]
          },
          "metadata": {
            "tags": []
          },
          "execution_count": 33
        }
      ]
    },
    {
      "cell_type": "code",
      "metadata": {
        "colab_type": "code",
        "id": "7q91kzoC4Iea",
        "colab": {}
      },
      "source": [
        "# saving model's trained weight\n",
        "pruned_model.save_weights(\"model_weights.h5\")"
      ],
      "execution_count": 0,
      "outputs": []
    }
  ]
}