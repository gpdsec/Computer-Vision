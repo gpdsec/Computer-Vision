{
  "nbformat": 4,
  "nbformat_minor": 0,
  "metadata": {
    "colab": {
      "name": "Spectrogram.ipynb",
      "provenance": [],
      "collapsed_sections": [],
      "authorship_tag": "ABX9TyNQb7Qn2/+6nTQ8DQF6oOPL"
    },
    "kernelspec": {
      "name": "python3",
      "display_name": "Python 3"
    }
  },
  "cells": [
    {
      "cell_type": "code",
      "metadata": {
        "id": "LuSbIf8VFO9O",
        "colab_type": "code",
        "colab": {}
      },
      "source": [
        "%matplotlib inline\n",
        "\n",
        "import os\n",
        "import pandas as pd\n",
        "from glob import glob\n",
        "import numpy as np\n",
        "import path as Path"
      ],
      "execution_count": 0,
      "outputs": []
    },
    {
      "cell_type": "code",
      "metadata": {
        "id": "ku7WWlO3MkYd",
        "colab_type": "code",
        "colab": {
          "base_uri": "https://localhost:8080/",
          "height": 105
        },
        "outputId": "9ae664d2-24e9-4fb0-d246-d2ba97848381"
      },
      "source": [
        "pip install ath"
      ],
      "execution_count": 23,
      "outputs": [
        {
          "output_type": "stream",
          "text": [
            "Requirement already satisfied: Path in c:\\programdata\\anaconda3\\lib\\site-packages (13.1.0)\n",
            "Note: you may need to restart the kernel to use updated packages.Requirement already satisfied: importlib-metadata>=0.5; python_version < \"3.8\" in c:\\programdata\\anaconda3\\lib\\site-packages (from Path) (1.5.0)\n",
            "Requirement already satisfied: zipp>=0.5 in c:\\programdata\\anaconda3\\lib\\site-packages (from importlib-metadata>=0.5; python_version < \"3.8\"->Path) (2.2.0)\n",
            "\n"
          ],
          "name": "stdout"
        }
      ]
    },
    {
      "cell_type": "code",
      "metadata": {
        "id": "lGuiAIDCFmpa",
        "colab_type": "code",
        "colab": {}
      },
      "source": [
        "\n",
        "\n",
        "\n",
        "import librosa\n",
        "import librosa.display\n",
        "import pylab\n",
        "import matplotlib.pyplot as plt\n"
      ],
      "execution_count": 0,
      "outputs": []
    },
    {
      "cell_type": "code",
      "metadata": {
        "id": "MMrK3dscHERL",
        "colab_type": "code",
        "colab": {}
      },
      "source": [
        "def create_spectrogram(filename,no):\n",
        "    plt.interactive(False)\n",
        "    path = \"Drive/Drive 2/Colab Notebooks/audio/\"+filename\n",
        "    clip, sample_rate = librosa.load(path, sr=None)\n",
        "    fig = plt.figure(figsize=[1,1])\n",
        "    ax = fig.add_subplot(111)\n",
        "    ax.axes.get_xaxis().set_visible(False)\n",
        "    ax.axes.get_yaxis().set_visible(False)\n",
        "    ax.set_frame_on(False)\n",
        "    S = librosa.feature.melspectrogram(y=clip, sr=sample_rate)\n",
        "    librosa.display.specshow(librosa.power_to_db(S, ref=np.max))\n",
        "    check_point = links[\"category\"][no]\n",
        "    if check_point!=\"coughing\":\n",
        "      filename = '/Drive/Drive 2/Colab Notebooks/Data/Non-Cough/' + filename + '.jpg'\n",
        "    else:\n",
        "      filename = '/Drive/Drive 2/Colab Notebooks/Data/Cough/' + filename + '.jpg'\n",
        "    plt.savefig(filename, dpi=400, bbox_inches='tight',pad_inches=0)\n",
        "    plt.close()    \n",
        "    fig.clf()\n",
        "    plt.close(fig)\n",
        "    plt.close('all')"
      ],
      "execution_count": 0,
      "outputs": []
    },
    {
      "cell_type": "code",
      "metadata": {
        "id": "r_72ELMCHO1p",
        "colab_type": "code",
        "colab": {}
      },
      "source": [
        "links = pd.read_csv(\"/Drive/Drive 2/Colab Notebooks/meta/esc50.csv\")"
      ],
      "execution_count": 0,
      "outputs": []
    },
    {
      "cell_type": "code",
      "metadata": {
        "id": "IuN8R0_4Hvpa",
        "colab_type": "code",
        "colab": {
          "base_uri": "https://localhost:8080/",
          "height": 34
        },
        "outputId": "80e355a1-495e-4f37-c1ce-07fad9c97f88"
      },
      "source": [
        "links.columns"
      ],
      "execution_count": 8,
      "outputs": [
        {
          "output_type": "execute_result",
          "data": {
            "text/plain": [
              "Index(['filename', 'fold', 'target', 'category', 'esc10', 'src_file', 'take'], dtype='object')"
            ]
          },
          "metadata": {
            "tags": []
          },
          "execution_count": 8
        }
      ]
    },
    {
      "cell_type": "code",
      "metadata": {
        "id": "sBL3QVdrH0WP",
        "colab_type": "code",
        "colab": {
          "base_uri": "https://localhost:8080/",
          "height": 359
        },
        "outputId": "82c04e6b-9f32-4fe8-b22b-9f2cf18ed1b9"
      },
      "source": [
        "links.head(10)"
      ],
      "execution_count": 9,
      "outputs": [
        {
          "output_type": "execute_result",
          "data": {
            "text/plain": [
              "            filename  fold  target         category  esc10  src_file take\n",
              "0   1-100032-A-0.wav     1       0              dog   True    100032    A\n",
              "1  1-100038-A-14.wav     1      14   chirping_birds  False    100038    A\n",
              "2  1-100210-A-36.wav     1      36   vacuum_cleaner  False    100210    A\n",
              "3  1-100210-B-36.wav     1      36   vacuum_cleaner  False    100210    B\n",
              "4  1-101296-A-19.wav     1      19     thunderstorm  False    101296    A\n",
              "5  1-101296-B-19.wav     1      19     thunderstorm  False    101296    B\n",
              "6  1-101336-A-30.wav     1      30  door_wood_knock  False    101336    A\n",
              "7  1-101404-A-34.wav     1      34      can_opening  False    101404    A\n",
              "8   1-103298-A-9.wav     1       9             crow  False    103298    A\n",
              "9  1-103995-A-30.wav     1      30  door_wood_knock  False    103995    A"
            ],
            "text/html": [
              "<div>\n",
              "<style scoped>\n",
              "    .dataframe tbody tr th:only-of-type {\n",
              "        vertical-align: middle;\n",
              "    }\n",
              "\n",
              "    .dataframe tbody tr th {\n",
              "        vertical-align: top;\n",
              "    }\n",
              "\n",
              "    .dataframe thead th {\n",
              "        text-align: right;\n",
              "    }\n",
              "</style>\n",
              "<table border=\"1\" class=\"dataframe\">\n",
              "  <thead>\n",
              "    <tr style=\"text-align: right;\">\n",
              "      <th></th>\n",
              "      <th>filename</th>\n",
              "      <th>fold</th>\n",
              "      <th>target</th>\n",
              "      <th>category</th>\n",
              "      <th>esc10</th>\n",
              "      <th>src_file</th>\n",
              "      <th>take</th>\n",
              "    </tr>\n",
              "  </thead>\n",
              "  <tbody>\n",
              "    <tr>\n",
              "      <th>0</th>\n",
              "      <td>1-100032-A-0.wav</td>\n",
              "      <td>1</td>\n",
              "      <td>0</td>\n",
              "      <td>dog</td>\n",
              "      <td>True</td>\n",
              "      <td>100032</td>\n",
              "      <td>A</td>\n",
              "    </tr>\n",
              "    <tr>\n",
              "      <th>1</th>\n",
              "      <td>1-100038-A-14.wav</td>\n",
              "      <td>1</td>\n",
              "      <td>14</td>\n",
              "      <td>chirping_birds</td>\n",
              "      <td>False</td>\n",
              "      <td>100038</td>\n",
              "      <td>A</td>\n",
              "    </tr>\n",
              "    <tr>\n",
              "      <th>2</th>\n",
              "      <td>1-100210-A-36.wav</td>\n",
              "      <td>1</td>\n",
              "      <td>36</td>\n",
              "      <td>vacuum_cleaner</td>\n",
              "      <td>False</td>\n",
              "      <td>100210</td>\n",
              "      <td>A</td>\n",
              "    </tr>\n",
              "    <tr>\n",
              "      <th>3</th>\n",
              "      <td>1-100210-B-36.wav</td>\n",
              "      <td>1</td>\n",
              "      <td>36</td>\n",
              "      <td>vacuum_cleaner</td>\n",
              "      <td>False</td>\n",
              "      <td>100210</td>\n",
              "      <td>B</td>\n",
              "    </tr>\n",
              "    <tr>\n",
              "      <th>4</th>\n",
              "      <td>1-101296-A-19.wav</td>\n",
              "      <td>1</td>\n",
              "      <td>19</td>\n",
              "      <td>thunderstorm</td>\n",
              "      <td>False</td>\n",
              "      <td>101296</td>\n",
              "      <td>A</td>\n",
              "    </tr>\n",
              "    <tr>\n",
              "      <th>5</th>\n",
              "      <td>1-101296-B-19.wav</td>\n",
              "      <td>1</td>\n",
              "      <td>19</td>\n",
              "      <td>thunderstorm</td>\n",
              "      <td>False</td>\n",
              "      <td>101296</td>\n",
              "      <td>B</td>\n",
              "    </tr>\n",
              "    <tr>\n",
              "      <th>6</th>\n",
              "      <td>1-101336-A-30.wav</td>\n",
              "      <td>1</td>\n",
              "      <td>30</td>\n",
              "      <td>door_wood_knock</td>\n",
              "      <td>False</td>\n",
              "      <td>101336</td>\n",
              "      <td>A</td>\n",
              "    </tr>\n",
              "    <tr>\n",
              "      <th>7</th>\n",
              "      <td>1-101404-A-34.wav</td>\n",
              "      <td>1</td>\n",
              "      <td>34</td>\n",
              "      <td>can_opening</td>\n",
              "      <td>False</td>\n",
              "      <td>101404</td>\n",
              "      <td>A</td>\n",
              "    </tr>\n",
              "    <tr>\n",
              "      <th>8</th>\n",
              "      <td>1-103298-A-9.wav</td>\n",
              "      <td>1</td>\n",
              "      <td>9</td>\n",
              "      <td>crow</td>\n",
              "      <td>False</td>\n",
              "      <td>103298</td>\n",
              "      <td>A</td>\n",
              "    </tr>\n",
              "    <tr>\n",
              "      <th>9</th>\n",
              "      <td>1-103995-A-30.wav</td>\n",
              "      <td>1</td>\n",
              "      <td>30</td>\n",
              "      <td>door_wood_knock</td>\n",
              "      <td>False</td>\n",
              "      <td>103995</td>\n",
              "      <td>A</td>\n",
              "    </tr>\n",
              "  </tbody>\n",
              "</table>\n",
              "</div>"
            ]
          },
          "metadata": {
            "tags": []
          },
          "execution_count": 9
        }
      ]
    },
    {
      "cell_type": "code",
      "metadata": {
        "id": "GFsRaHUEITn0",
        "colab_type": "code",
        "colab": {}
      },
      "source": [
        "len_N = len(links)\n",
        "for i in range(len_N):\n",
        "  filename = links[\"filename\"][i]\n",
        "  create_spectrogram(filename, i)\n",
        "  print(i)"
      ],
      "execution_count": 0,
      "outputs": []
    },
    {
      "cell_type": "code",
      "metadata": {
        "id": "xucYL8IFL1xG",
        "colab_type": "code",
        "colab": {}
      },
      "source": [
        ""
      ],
      "execution_count": 0,
      "outputs": []
    }
  ]
}